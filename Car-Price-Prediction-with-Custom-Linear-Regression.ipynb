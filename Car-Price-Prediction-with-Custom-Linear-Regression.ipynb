{
 "cells": [
  {
   "cell_type": "code",
   "execution_count": 1,
   "id": "9d77c141-c78a-48b1-a4cb-f3bd9bd43626",
   "metadata": {},
   "outputs": [],
   "source": [
    "import pandas as pd\n",
    "import numpy as np\n",
    "import random"
   ]
  },
  {
   "cell_type": "code",
   "execution_count": 2,
   "id": "ebeb4f93-0a6e-4555-8b75-4d9fdde3c6d6",
   "metadata": {},
   "outputs": [],
   "source": [
    "dataframe = pd.read_csv('../../Databases/turboaz.csv')"
   ]
  },
  {
   "cell_type": "code",
   "execution_count": 3,
   "id": "1209376f-a003-4d80-9574-b5b34a1d2df9",
   "metadata": {},
   "outputs": [],
   "source": [
    "df = dataframe[['Buraxilish ili','Yurush' , 'Qiymet']].copy()"
   ]
  },
  {
   "cell_type": "code",
   "execution_count": 4,
   "id": "03e2cdbb-5f49-4ef7-b4ff-293baa3e77e0",
   "metadata": {},
   "outputs": [],
   "source": [
    "def convertPrice(col):\n",
    "    words = col.split()\n",
    "    price = float(words[0])\n",
    "\n",
    "    if '$' in col:\n",
    "        price = price * 1.7\n",
    "\n",
    "    return price"
   ]
  },
  {
   "cell_type": "code",
   "execution_count": 5,
   "id": "d1b81fe3-8c48-45ab-9dd1-6bceeca2165b",
   "metadata": {},
   "outputs": [],
   "source": [
    "df['Qiymet'] = df['Qiymet'].apply(convertPrice)"
   ]
  },
  {
   "cell_type": "code",
   "execution_count": 6,
   "id": "02511e91-8d9c-4656-a516-6ec207eeef56",
   "metadata": {},
   "outputs": [],
   "source": [
    "def clear(col):\n",
    "    return int(col.replace(' ','').replace('km',''))"
   ]
  },
  {
   "cell_type": "code",
   "execution_count": 7,
   "id": "a0842a01-45b5-4e69-9f7e-851bc4f0ae9a",
   "metadata": {},
   "outputs": [],
   "source": [
    "df['Yurush'] = df['Yurush'].apply(clear)"
   ]
  },
  {
   "cell_type": "code",
   "execution_count": 8,
   "id": "61f75bbc-fbb3-4ffa-ad6f-f92528eca086",
   "metadata": {},
   "outputs": [],
   "source": [
    "X = df[['Buraxilish ili', 'Yurush']]\n",
    "y = df['Qiymet']"
   ]
  },
  {
   "cell_type": "code",
   "execution_count": 9,
   "id": "c3981bcd-a1d8-457d-afda-f569352bb9df",
   "metadata": {},
   "outputs": [],
   "source": [
    "class LinearRegression:\n",
    "    def __init__(self, alpha = 0.1, n_iteration = 1000, normalize =True):\n",
    "        self.normalize = normalize\n",
    "        self.alpha = alpha\n",
    "        self.n_iteration = n_iteration\n",
    "        self.coef_ = None\n",
    "        self.bias = None\n",
    "    def costFunc(self, x, y, w):\n",
    "        return np.sum((x.dot(w) - y) ** 2) / (2 * len(x))\n",
    "\n",
    "    def standartize(self, x):\n",
    "        self.mean = np.array(x.mean(axis = 0))\n",
    "        self.std = np.array(x.std(axis = 0))\n",
    "        self.std[self.std == 0] = 1\n",
    "        return (x - self.mean) / self.std\n",
    "        \n",
    "    def fit(self, x, y):\n",
    "        if self.normalize == True:\n",
    "            x = self.standartize(x)\n",
    "        x_ = np.c_[np.ones(len(x)),x]\n",
    "        w = np.array([random.randint(1,100)] * x_.shape[1])\n",
    "        \n",
    "        for i in range(self.n_iteration):\n",
    "            h = x_.dot(w)\n",
    "            diff = (h.T - y)\n",
    "            gradient = self.alpha * (x_.T.dot(diff)) / x_.shape[0]\n",
    "            w = w - gradient\n",
    "        self.coef_ = w[1:]\n",
    "        self.bias = w[0]\n",
    "\n",
    "    def predict(self,x):\n",
    "        x = np.array(x)\n",
    "        if x.ndim == 1:\n",
    "            x = x.reshape(1,-1)\n",
    "            \n",
    "        if self.normalize:      \n",
    "            x = (x - self.mean) / self.std\n",
    "\n",
    "        predict = x.dot(self.coef_) + self.bias #self.coef_ @ x + self.bias\n",
    "        return np.round(predict,5)"
   ]
  },
  {
   "cell_type": "code",
   "execution_count": 10,
   "id": "8d44cd05-599a-4646-92ac-0424b27ac01d",
   "metadata": {},
   "outputs": [],
   "source": [
    "m = LinearRegression()"
   ]
  },
  {
   "cell_type": "code",
   "execution_count": 11,
   "id": "7f057c96-b048-4f22-b996-0916c3689fa3",
   "metadata": {},
   "outputs": [],
   "source": [
    "m.fit(X,y)"
   ]
  },
  {
   "cell_type": "code",
   "execution_count": 12,
   "id": "c9b92f73-aa53-44a2-b71f-0931bd068895",
   "metadata": {},
   "outputs": [
    {
     "data": {
      "text/plain": [
       "array([11341.6889984 , -1274.18127327])"
      ]
     },
     "execution_count": 12,
     "metadata": {},
     "output_type": "execute_result"
    }
   ],
   "source": [
    "m.coef_"
   ]
  },
  {
   "cell_type": "code",
   "execution_count": 13,
   "id": "f64eb03c-4e38-4eb5-a5e6-bc3b19f7a0c5",
   "metadata": {},
   "outputs": [
    {
     "data": {
      "text/plain": [
       "array([60669.99711])"
      ]
     },
     "execution_count": 13,
     "metadata": {},
     "output_type": "execute_result"
    }
   ],
   "source": [
    "m.predict([2020,23420])"
   ]
  }
 ],
 "metadata": {
  "kernelspec": {
   "display_name": "Python 3 (ipykernel)",
   "language": "python",
   "name": "python3"
  },
  "language_info": {
   "codemirror_mode": {
    "name": "ipython",
    "version": 3
   },
   "file_extension": ".py",
   "mimetype": "text/x-python",
   "name": "python",
   "nbconvert_exporter": "python",
   "pygments_lexer": "ipython3",
   "version": "3.12.7"
  }
 },
 "nbformat": 4,
 "nbformat_minor": 5
}
